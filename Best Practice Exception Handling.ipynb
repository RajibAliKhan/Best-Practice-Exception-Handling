{
 "cells": [
  {
   "cell_type": "code",
   "execution_count": 1,
   "id": "cd3372ba-24ab-4dd0-b9b8-814ed1996ccc",
   "metadata": {},
   "outputs": [
    {
     "name": "stdout",
     "output_type": "stream",
     "text": [
      "division by zero\n"
     ]
    }
   ],
   "source": [
    "# using super class 'Exception' is a bad practice\n",
    "# Example :\n",
    "\n",
    "try :\n",
    "    10/0\n",
    "except Exception as e :\n",
    "    print(e)"
   ]
  },
  {
   "cell_type": "code",
   "execution_count": 2,
   "id": "e63cfae1-634f-47db-ac87-1cc09fc2b3a6",
   "metadata": {},
   "outputs": [
    {
     "name": "stdout",
     "output_type": "stream",
     "text": [
      "division by zero\n"
     ]
    }
   ],
   "source": [
    "# Instead using proper error methods (specific one)\n",
    "# Example :\n",
    "\n",
    "try :\n",
    "    10/0\n",
    "except ZeroDivisionError as e :\n",
    "    print(e)"
   ]
  },
  {
   "cell_type": "code",
   "execution_count": 4,
   "id": "498a8d5c-d935-4158-855f-5f0accb189f7",
   "metadata": {},
   "outputs": [
    {
     "name": "stdout",
     "output_type": "stream",
     "text": [
      "I am trying to handle a ZeroDivisionError. division by zero\n"
     ]
    }
   ],
   "source": [
    "# One can also use with proper message \n",
    "\n",
    "try :\n",
    "    10/0\n",
    "except ZeroDivisionError as e :\n",
    "    print('I am trying to handle a ZeroDivisionError.', e)"
   ]
  },
  {
   "cell_type": "code",
   "execution_count": 6,
   "id": "0a8a1824-2fe6-4578-b10c-9220b24ea7c7",
   "metadata": {},
   "outputs": [],
   "source": [
    "# Always try to log error\n",
    "\n",
    "import logging\n",
    "logging.basicConfig(filename = 'error.log', level = logging.INFO)\n",
    "try :\n",
    "    10/0\n",
    "except ZeroDivisionError as e :\n",
    "    logging.error('I am trying to handle a ZeroDivisionError {}'.format(e))  "
   ]
  },
  {
   "cell_type": "code",
   "execution_count": 7,
   "id": "4bfe1260-bbea-412a-b804-5568cd09ca94",
   "metadata": {},
   "outputs": [],
   "source": [
    "# Always avoid to write a multiple exception handling\n",
    "\n",
    "try :\n",
    "    10/0\n",
    "except FileNotFoundError as e :\n",
    "    logging.error('I am trying to handle a FileNotFoundError {}'.format(e))\n",
    "except AttributeError as e :\n",
    "    logging.error('I am trying to handle a AttributeError {}'.format(e))\n",
    "except ZeroDivisionError as e :\n",
    "    logging.error('I am trying to handle a ZeroDivisionError {}'.format(e))"
   ]
  },
  {
   "cell_type": "code",
   "execution_count": 9,
   "id": "1ff498af-45aa-48c3-be29-0b26db1fbc69",
   "metadata": {},
   "outputs": [],
   "source": [
    "# Documents all the error\n",
    "# Cleanup all the resources\n",
    "# Here I opened a file but didnot close the file\n",
    "# So, the file is always open\n",
    "# By using 'finally' block, I have to close the file.\n",
    "\n",
    "try :\n",
    "    with open('test.txt','w') as f :\n",
    "        f.write('This is my data file.')\n",
    "except FileNotFoundError as e :\n",
    "    logging.error('I am trying to handle a FileNotFoundError {}'.format(e))\n",
    "finally :\n",
    "    f.close()\n",
    "logging.shutdown()"
   ]
  },
  {
   "cell_type": "code",
   "execution_count": null,
   "id": "1536fb20-d3a9-4760-b87a-4f2b31b7025b",
   "metadata": {},
   "outputs": [],
   "source": []
  }
 ],
 "metadata": {
  "kernelspec": {
   "display_name": "Python 3 (ipykernel)",
   "language": "python",
   "name": "python3"
  },
  "language_info": {
   "codemirror_mode": {
    "name": "ipython",
    "version": 3
   },
   "file_extension": ".py",
   "mimetype": "text/x-python",
   "name": "python",
   "nbconvert_exporter": "python",
   "pygments_lexer": "ipython3",
   "version": "3.10.8"
  }
 },
 "nbformat": 4,
 "nbformat_minor": 5
}
